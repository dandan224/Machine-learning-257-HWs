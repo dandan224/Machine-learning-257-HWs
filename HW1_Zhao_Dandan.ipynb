{
  "nbformat": 4,
  "nbformat_minor": 0,
  "metadata": {
    "colab": {
      "name": "HW1_Zhao_Dandan",
      "version": "0.3.2",
      "provenance": []
    },
    "kernelspec": {
      "display_name": "Python [default]",
      "language": "python",
      "name": "python3"
    }
  },
  "cells": [
    {
      "cell_type": "markdown",
      "metadata": {
        "id": "oIdTxRmNwUg_",
        "colab_type": "text"
      },
      "source": [
        "# HW 1: Python Drill"
      ]
    },
    {
      "cell_type": "markdown",
      "metadata": {
        "id": "Ef58uM4CwUh5",
        "colab_type": "text"
      },
      "source": [
        "* Please note that there may be more than one ways to solve each drill.  \n",
        "* Use Python for this HW.  \n",
        "* Include a brief README section if your code requires special steps to run.\n",
        "* You would also need to explain how you arrive at your solution."
      ]
    },
    {
      "cell_type": "markdown",
      "metadata": {
        "id": "IeV4dzDAwUj1",
        "colab_type": "text"
      },
      "source": [
        "### Drill 1: Largest Palindrome\n",
        "A palindromic number reads the same both ways. For example, 1234321 is a palindrome. The largest palindrome made from the product of two two-digit numbers is 9009 = 91 × 99. Find the largest palindrome made from the product of two three-digit numbers. Afterward, write a brief explanation walking through your solution's logic in markdown."
      ]
    },
    {
      "cell_type": "code",
      "metadata": {
        "id": "X9JIs0Q9wUkV",
        "colab_type": "code",
        "outputId": "e6a2e97e-84a2-4cac-f2a0-f5787f9b2ae1",
        "colab": {
          "base_uri": "https://localhost:8080/",
          "height": 35
        }
      },
      "source": [
        "max_pal = 0\n",
        "for i in range(100,1000):\n",
        "    for j in range(100,1000):\n",
        "      mult = i * j \n",
        "      if str(mult) == str(mult)[::-1]: # Check if the number is palindrome\n",
        "          if mult > max_pal: \n",
        "              max_pal = mult\n",
        "print (max_pal)\n"
      ],
      "execution_count": 0,
      "outputs": [
        {
          "output_type": "stream",
          "text": [
            "906609\n"
          ],
          "name": "stdout"
        }
      ]
    },
    {
      "cell_type": "markdown",
      "metadata": {
        "id": "hK9Roa0awUlE",
        "colab_type": "text"
      },
      "source": [
        "#### Explainign how you solve Drill 1:\n",
        "If we convert the interger( the product of the two numbers) into the string, then the string euqal to the mirror of the string, the result is a palindromic number, it's the key part.\n",
        "\n",
        "Then I use the nested for loop to find the two numbers from 100 to 999,  which the product is the largest  palindrome. When i is 100,  j go through from 100 to 999, find the value of *max_pal*. Then i is 101,102, up to 999, same operation until find the  largest  palindrome.\n",
        "\n",
        "This solution is not the most effective, but it is easier to understand how to implement the problem."
      ]
    },
    {
      "cell_type": "markdown",
      "metadata": {
        "id": "9V9q2vC2wUlP",
        "colab_type": "text"
      },
      "source": [
        "\n",
        "### Drill 2: Summation of Primes\n",
        "The sum of the primes below 10 is 2 + 3 + 5 + 7 = 17. Find the sum of all the primes below 2,000. Afterward, write a brief explanation walking through your solution's logic in markdown."
      ]
    },
    {
      "cell_type": "code",
      "metadata": {
        "id": "sW-q2uIgwUlZ",
        "colab_type": "code",
        "outputId": "2507fccf-8bb3-48ed-c68f-a679d6beb146",
        "colab": {
          "base_uri": "https://localhost:8080/",
          "height": 35
        }
      },
      "source": [
        "numbers = list(range(2, 2000))\n",
        "for prime in numbers:\n",
        "    for x in numbers:\n",
        "        if x % prime == 0 and prime != x:\n",
        "            numbers.remove(x)\n",
        "print(sum(numbers))"
      ],
      "execution_count": 0,
      "outputs": [
        {
          "output_type": "stream",
          "text": [
            "277050\n"
          ],
          "name": "stdout"
        }
      ]
    },
    {
      "cell_type": "markdown",
      "metadata": {
        "id": "3n3rAArLwUmN",
        "colab_type": "text"
      },
      "source": [
        "#### Explainign how you solve Drill 2:\n",
        "If a number can be divided by the prime number and not equal to the prime number, it is not a prime number, we find these numbers which are not prime numbers and remove them from the list and left all the prime numbers in the list, then sum of them.\n",
        "\n",
        "Initialize a list *numbers* including from 2 to1999, since the prime number start from 2. The outter for loop start from 2, the purpose of inner for loop is remove all the numbers which can be divided by 2 from the list numbers and the size of the list become smaller. Then go back to the outter loop, go the next prime number 3, then the inner for loop remove all the numbers which can be divided by 3, and so on, at last the number left in the list are all prime numbers."
      ]
    },
    {
      "cell_type": "markdown",
      "metadata": {
        "id": "acMTTJjXwUmp",
        "colab_type": "text"
      },
      "source": [
        "### Drill 3: Multiples of 3 and 5\n",
        "If we list all of the natural numbers below 10 that are multiples of 3 or 5, we get 3, 5, 6, and 9. The sum of these multiples is 23. Find the sum of all the multiples of 3 or 5 below 1,000. Afterward, write a brief explanation walking through your solution's logic in markdown."
      ]
    },
    {
      "cell_type": "code",
      "metadata": {
        "id": "pDzS7Kc8wUnI",
        "colab_type": "code",
        "outputId": "bf1bdfe7-f650-4d6b-ccbe-bb8232e73b10",
        "colab": {
          "base_uri": "https://localhost:8080/",
          "height": 35
        }
      },
      "source": [
        "total_sum = 0\n",
        "for i in range(1, 1000):\n",
        "    if i % 3 == 0 or i % 5 == 0:\n",
        "        total_sum = total_sum + i\n",
        "print(total_sum) "
      ],
      "execution_count": 0,
      "outputs": [
        {
          "output_type": "stream",
          "text": [
            "233168\n"
          ],
          "name": "stdout"
        }
      ]
    },
    {
      "cell_type": "markdown",
      "metadata": {
        "id": "RtyLAfblwUn8",
        "colab_type": "text"
      },
      "source": [
        "#### Explainign how you solve Drill 3:\n",
        "If a number can be divided by 3 or 5, then the number is the multiples of 3 or 5.\n",
        "\n",
        "Initialize the *total_sum* is 0, use the for loop go through the numbers from 1 to 999, if the number can be divided by 3 or by 5, we add the number to the *total_sum*, we will get the sum of the multiples of 3 or 5 below 1,000 at last."
      ]
    },
    {
      "cell_type": "markdown",
      "metadata": {
        "id": "0UGvuKZVwUoL",
        "colab_type": "text"
      },
      "source": [
        "### Drill 4: String Compressor\n",
        "Implement a method to perform basic string compression using the counts of repeated characters. (This is called run-length encoding.) For example, the string \"aabcccccaaa\" would become a2b1c5a3. If the “compressed” string would not become smaller than the original string, your method should return the original string. You can assume the string has only uppercase and lowercase letters (a–z). Specify whether your solution is case sensitive or case insensitive and what you would need to change to make it the other. Afterward, write a brief explanation walking through your solution's logic in markdown."
      ]
    },
    {
      "cell_type": "code",
      "metadata": {
        "id": "G1Zo6FBgwUoc",
        "colab_type": "code",
        "outputId": "771ea1c1-4ab6-465a-db8e-97ec96f17eb3",
        "colab": {
          "base_uri": "https://localhost:8080/",
          "height": 52
        }
      },
      "source": [
        "def compressed(data, isSensitive = True):\n",
        "  if not data:\n",
        "    return None\n",
        "  if not isSensitive:\n",
        "    data = data.lower()\n",
        "  base = data[0]\n",
        "  length = 1\n",
        "  compress_data = base\n",
        "  for cur in data[1:]:\n",
        "    if cur == base:\n",
        "      length += 1\n",
        "    else:\n",
        "      compress_data += str(length)\n",
        "      base = cur\n",
        "      length = 1\n",
        "      compress_data += base\n",
        "  compress_data += str(length)\n",
        "  if len(compress_data) < len(data):\n",
        "    return  compress_data\n",
        "  else:\n",
        "    return data\n",
        "  \n",
        "print(compressed(\"aAaavvVvDCcccc\", False))\n",
        "print(compressed(\"aaaavvvvDCcccc\"))\n",
        "\n"
      ],
      "execution_count": 0,
      "outputs": [
        {
          "output_type": "stream",
          "text": [
            "a4v4d1c5\n",
            "a4v4D1C1c4\n"
          ],
          "name": "stdout"
        }
      ]
    },
    {
      "cell_type": "markdown",
      "metadata": {
        "id": "NmS3syOLwUpQ",
        "colab_type": "text"
      },
      "source": [
        "#### Explainign how you solve Drill 4:\n",
        "The function **compressed** have two parameters, the *data* and  *isSensitive*, default is case sensitive. If we want case insensitive, just set the *isSensitive* to False. This algorithm is designed by using two pointers (*base* and *cur*), *base* is using to point the start character of the series of duplicated chars and *cur* is using to scan the data. If the char of *cur* is same as base, the counter of the length will be added by 1, until *cur* is pointing to a different char, and *base* will be updated by *cur* and the counter will be reset to 1.\n",
        "If the length of compressed data is not smaller than original data, will be returned to the original data."
      ]
    },
    {
      "cell_type": "markdown",
      "metadata": {
        "id": "0GEMzrlswUpj",
        "colab_type": "text"
      },
      "source": [
        "### *BONUS* Drill: MachineLearning\n",
        "Write a program that prints all of the numbers from 1 to 100. For multiples of 3, instead of the number, print \"Machine;\" for multiples of 5, print \"Learning.\" For numbers that are multiples of both 3 and 5, print \"MachineLearning.\" Afterward, write a brief explanation walking through your solution's logic in markdown."
      ]
    },
    {
      "cell_type": "code",
      "metadata": {
        "id": "4uzC1FZ_wUqP",
        "colab_type": "code",
        "outputId": "ea236036-03bb-4e27-e0f0-1aa866ccd5bf",
        "colab": {
          "base_uri": "https://localhost:8080/",
          "height": 1751
        }
      },
      "source": [
        "for i in range(1, 101): \n",
        "    if (i % 3 == 0 and i % 5 == 0):\n",
        "      print(\"MachineLearning\")\n",
        "    elif (i % 3 == 0):\n",
        "      print(\"Machine\")\n",
        "    elif (i % 5 == 0):\n",
        "      print(\"Learning\")\n",
        "    else:\n",
        "      print(i)"
      ],
      "execution_count": 0,
      "outputs": [
        {
          "output_type": "stream",
          "text": [
            "1\n",
            "2\n",
            "Machine\n",
            "4\n",
            "Learning\n",
            "Machine\n",
            "7\n",
            "8\n",
            "Machine\n",
            "Learning\n",
            "11\n",
            "Machine\n",
            "13\n",
            "14\n",
            "MachineLearning\n",
            "16\n",
            "17\n",
            "Machine\n",
            "19\n",
            "Learning\n",
            "Machine\n",
            "22\n",
            "23\n",
            "Machine\n",
            "Learning\n",
            "26\n",
            "Machine\n",
            "28\n",
            "29\n",
            "MachineLearning\n",
            "31\n",
            "32\n",
            "Machine\n",
            "34\n",
            "Learning\n",
            "Machine\n",
            "37\n",
            "38\n",
            "Machine\n",
            "Learning\n",
            "41\n",
            "Machine\n",
            "43\n",
            "44\n",
            "MachineLearning\n",
            "46\n",
            "47\n",
            "Machine\n",
            "49\n",
            "Learning\n",
            "Machine\n",
            "52\n",
            "53\n",
            "Machine\n",
            "Learning\n",
            "56\n",
            "Machine\n",
            "58\n",
            "59\n",
            "MachineLearning\n",
            "61\n",
            "62\n",
            "Machine\n",
            "64\n",
            "Learning\n",
            "Machine\n",
            "67\n",
            "68\n",
            "Machine\n",
            "Learning\n",
            "71\n",
            "Machine\n",
            "73\n",
            "74\n",
            "MachineLearning\n",
            "76\n",
            "77\n",
            "Machine\n",
            "79\n",
            "Learning\n",
            "Machine\n",
            "82\n",
            "83\n",
            "Machine\n",
            "Learning\n",
            "86\n",
            "Machine\n",
            "88\n",
            "89\n",
            "MachineLearning\n",
            "91\n",
            "92\n",
            "Machine\n",
            "94\n",
            "Learning\n",
            "Machine\n",
            "97\n",
            "98\n",
            "Machine\n",
            "Learning\n"
          ],
          "name": "stdout"
        }
      ]
    },
    {
      "cell_type": "markdown",
      "metadata": {
        "id": "mxsIw-LKwUq6",
        "colab_type": "text"
      },
      "source": [
        "#### Explainign how you solve Bonus Drill:\n",
        "By using a for loop going through the number from 1 to 100, then the numbers fit into the different conditions, having different outputs. I use if and else if to implement the problem. "
      ]
    }
  ]
}